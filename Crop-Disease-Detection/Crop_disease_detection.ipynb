{
  "nbformat": 4,
  "nbformat_minor": 0,
  "metadata": {
    "colab": {
      "provenance": [],
      "authorship_tag": "ABX9TyN96ONMiWjlgVsgUGgPjCkJ"
    },
    "kernelspec": {
      "name": "python3",
      "display_name": "Python 3"
    },
    "language_info": {
      "name": "python"
    }
  },
  "cells": [
    {
      "cell_type": "markdown",
      "source": [
        "# Prerequisites"
      ],
      "metadata": {
        "id": "LbjMgBM5mZRO"
      }
    },
    {
      "cell_type": "code",
      "source": [
        "from google.colab import drive\n",
        "import os\n",
        "import pandas as pd\n",
        "import cv2"
      ],
      "metadata": {
        "id": "tMLIiOUyY4kn"
      },
      "execution_count": 13,
      "outputs": []
    },
    {
      "cell_type": "code",
      "execution_count": 1,
      "metadata": {
        "colab": {
          "base_uri": "https://localhost:8080/"
        },
        "id": "jZvLdxYzUQLb",
        "outputId": "dc36fbe2-5cdc-41f5-fddf-b2317542577f"
      },
      "outputs": [
        {
          "output_type": "stream",
          "name": "stdout",
          "text": [
            "Mounted at /content/drive\n"
          ]
        }
      ],
      "source": [
        "# Mounting Google Drive\n",
        "drive.mount('/content/drive')"
      ]
    },
    {
      "cell_type": "markdown",
      "source": [
        "# Processing healthy images info"
      ],
      "metadata": {
        "id": "MLJFri2nmLuP"
      }
    },
    {
      "cell_type": "code",
      "source": [
        "# Needed variables\n",
        "healthy_imgs_path = 'drive/MyDrive/MBD&CD/MBID14_TFM/DL/Grape_imgs/healthy'\n",
        "healthy_imgs_paths = []\n",
        "healthy_category = []\n",
        "healthy_imgs_dimensions = []\n",
        "\n",
        "# Reading healthy images and saving their information\n",
        "for filename in os.listdir(healthy_imgs_path):\n",
        "  healthy_img_path = os.path.join(healthy_imgs_path, filename)\n",
        "  healthy_imgs_paths.append(healthy_img_path)\n",
        "  healthy_category.append('healthy')\n",
        "  healthy_img = cv2.imread(healthy_img_path)\n",
        "  healthy_imgs_dimensions.append(healthy_img.shape)\n",
        "\n",
        "df_healthy = pd.DataFrame({'Filename': healthy_imgs_paths, 'Dimension': healthy_imgs_dimensions, 'Category': healthy_category})\n",
        "df_healthy"
      ],
      "metadata": {
        "id": "n5IVSBugWuBt"
      },
      "execution_count": 38,
      "outputs": []
    },
    {
      "cell_type": "code",
      "source": [
        "# Checking images dimensions to see if all the images have the same dimensions\n",
        "df_healthy['Dimension'].value_counts()"
      ],
      "metadata": {
        "colab": {
          "base_uri": "https://localhost:8080/"
        },
        "id": "CwhKQHD0YU8V",
        "outputId": "d76ce3e5-7484-4474-b627-8c457d27d590"
      },
      "execution_count": 42,
      "outputs": [
        {
          "output_type": "stream",
          "name": "stdout",
          "text": [
            "(256, 256, 3)    1017\n",
            "Name: Dimension, dtype: int64\n"
          ]
        }
      ]
    },
    {
      "cell_type": "markdown",
      "source": [
        "# Processing esca images info"
      ],
      "metadata": {
        "id": "SulHt5qnoDwO"
      }
    },
    {
      "cell_type": "code",
      "source": [],
      "metadata": {
        "id": "8Ks6Mkv5oHM5"
      },
      "execution_count": null,
      "outputs": []
    }
  ]
}